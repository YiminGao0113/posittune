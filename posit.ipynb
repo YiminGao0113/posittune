{
 "cells": [
  {
   "cell_type": "code",
   "execution_count": 1,
   "metadata": {},
   "outputs": [
    {
     "name": "stdout",
     "output_type": "stream",
     "text": [
      "Posit8: 1.0\n",
      "\u001b[1;37;41m0\u001b[0m\u001b[1;30;43m10\u001b[0m\u001b[1;37;40m00000\u001b[0m\n",
      "\n",
      "Posit16: 0.29998779296875\n",
      "\u001b[1;37;41m0\u001b[0m\u001b[1;30;43m01\u001b[0m\u001b[1;37;44m0\u001b[0m\u001b[1;37;40m0011 00110011\u001b[0m\n",
      "\n",
      "Posit32: 0.30000000074505806\n",
      "\u001b[1;37;41m0\u001b[0m\u001b[1;30;43m01\u001b[0m\u001b[1;37;44m10\u001b[0m\u001b[1;37;40m001 10011001 10011001 10011010\u001b[0m\n"
     ]
    }
   ],
   "source": [
    "import softposit as sp\n",
    "import softfloat as sf\n",
    "\n",
    "#Different Standard Posit Types\n",
    "p8=sp.posit8(1)\n",
    "print(\"Posit8:\", p8)\n",
    "p8.toBinaryFormatted()\n",
    "\n",
    "p16=sp.posit16(0.3)\n",
    "print(\"\\nPosit16:\", p16)\n",
    "p16.toBinaryFormatted()\n",
    "\n",
    "p32=sp.posit32(0.3)\n",
    "print(\"\\nPosit32:\", p32)\n",
    "p32.toBinaryFormatted()"
   ]
  },
  {
   "cell_type": "code",
   "execution_count": null,
   "metadata": {},
   "outputs": [
    {
     "name": "stdout",
     "output_type": "stream",
     "text": [
      "\n",
      "Using Binary String:\n",
      "\u001b[1;37;41m0\u001b[0m\u001b[1;30;43m10\u001b[0m\u001b[1;37;40m00110\u001b[0m\n",
      "1.1875\n"
     ]
    }
   ],
   "source": [
    "print('\\nUsing Binary String:')\n",
    "p8.fromBits(int(\"01111110\"))\n",
    "p8.toBinaryFormatted()\n",
    "p8f = float(p8)\n",
    "print(p8f)"
   ]
  },
  {
   "cell_type": "code",
   "execution_count": 2,
   "metadata": {},
   "outputs": [
    {
     "name": "stdout",
     "output_type": "stream",
     "text": [
      "\u001b[1;37;41m0\u001b[0m\u001b[1;37;44m01011\u001b[0m\u001b[1;37;40m10 01100110\u001b[0m\n",
      "0.0999755859375\n",
      "\u001b[1;37;41m0\u001b[0m\u001b[1;30;43m00001\u001b[0m\u001b[1;37;40m10\u001b[0m\n",
      "0.09375\n",
      "\u001b[1;37;41m0\u001b[0m\u001b[1;37;44m01011\u001b[0m\u001b[1;37;40m10 00000000\u001b[0m\n"
     ]
    }
   ],
   "source": [
    "\n",
    "f16_v1 = sf.float16(0.1)\n",
    "f16_v1.toBinaryFormatted()\n",
    "\n",
    "print(f16_v1)\n",
    "\n",
    "p8 = sp.posit8(0.1)\n",
    "p8.toBinaryFormatted()\n",
    "\n",
    "\n",
    "float_value = float(p8)  # Converts the Posit value to a floating-point number\n",
    "print(float_value)\n",
    "# print(dir(p8))\n",
    "\n",
    "f16 = sf.float16(float_value)\n",
    "f16.toBinaryFormatted()\n",
    "\n"
   ]
  },
  {
   "cell_type": "code",
   "execution_count": 5,
   "metadata": {},
   "outputs": [
    {
     "name": "stdout",
     "output_type": "stream",
     "text": [
      "Using Integers:\n",
      "\u001b[1;37;41m0\u001b[0m\u001b[1;30;43m00001\u001b[0m\u001b[1;37;40m10\u001b[0m\n",
      "\n",
      "Using Hex:\n",
      "\u001b[1;37;41m0\u001b[0m\u001b[1;30;43m00001\u001b[0m\u001b[1;37;40m10\u001b[0m\n",
      "\n",
      "Using Binary String:\n",
      "\u001b[1;37;41m1\u001b[0m\u001b[1;30;43m01\u001b[0m\u001b[1;37;40m10011\u001b[0m\n"
     ]
    }
   ],
   "source": [
    "#Assign values by bits\n",
    "\n",
    "print('Using Integers:')\n",
    "p8.fromBits(6)\n",
    "p8.toBinaryFormatted()\n",
    "\n",
    "\n",
    "print('\\nUsing Hex:')\n",
    "p8.fromBits(6)\n",
    "p8.toBinaryFormatted()\n",
    "\n",
    "print('\\nUsing Binary String:')\n",
    "p8.fromBits(int(\"10110011\", 2))\n",
    "p8.toBinaryFormatted()\n"
   ]
  },
  {
   "cell_type": "code",
   "execution_count": 6,
   "metadata": {},
   "outputs": [
    {
     "name": "stdout",
     "output_type": "stream",
     "text": [
      "p8 type: posit8 \n",
      "\n",
      "p16 type: posit16 \n",
      "\n",
      "p32 type: posit32 \n",
      "\n"
     ]
    }
   ],
   "source": [
    "# Checking  Posit types\n",
    "\n",
    "print(\"p8 type:\", p8.type(), \"\\n\")\n",
    "\n",
    "print(\"p16 type:\", p16.type(), \"\\n\")\n",
    "\n",
    "print(\"p32 type:\", p32.type(), \"\\n\")"
   ]
  },
  {
   "cell_type": "code",
   "execution_count": 7,
   "metadata": {},
   "outputs": [
    {
     "name": "stdout",
     "output_type": "stream",
     "text": [
      "For a value of 0.29998779296875 :\n",
      "\u001b[1;37;41m0\u001b[0m\u001b[1;30;43m01\u001b[0m\u001b[1;37;44m0\u001b[0m\u001b[1;37;40m0011 00110011\u001b[0m\n",
      "\n",
      "For a value of -0.29998779296875 :\n",
      "\u001b[1;37;41m1\u001b[0m\u001b[1;30;43m10\u001b[0m\u001b[1;37;44m1\u001b[0m\u001b[1;37;40m1100 11001101\u001b[0m\n"
     ]
    }
   ],
   "source": [
    "#Sign bit: positive and negative posits\n",
    "p16=sp.posit16(0.3)\n",
    "print(\"For a value of\", p16, \":\")\n",
    "p16.toBinaryFormatted()\n",
    "\n",
    "print(\"\\nFor a value of\", -p16, \":\")\n",
    "(-p16).toBinaryFormatted()"
   ]
  },
  {
   "cell_type": "code",
   "execution_count": 8,
   "metadata": {},
   "outputs": [
    {
     "name": "stdout",
     "output_type": "stream",
     "text": [
      "For a value of 0.300048828125 :\n",
      "\u001b[1;37;41m0\u001b[0m\u001b[1;37;44m01101\u001b[0m\u001b[1;37;40m00 11001101\u001b[0m\n",
      "\n",
      "For a value of -0.300048828125 :\n",
      "\u001b[1;37;41m1\u001b[0m\u001b[1;37;44m01101\u001b[0m\u001b[1;37;40m00 11001101\u001b[0m\n"
     ]
    }
   ],
   "source": [
    "#Sign bit: positive and negative posits\n",
    "f16=sf.float16(0.3)\n",
    "print(\"For a value of\", f16, \":\")\n",
    "f16.toBinaryFormatted()\n",
    "\n",
    "print(\"\\nFor a value of\", -f16, \":\")\n",
    "(-f16).toBinaryFormatted()"
   ]
  },
  {
   "cell_type": "code",
   "execution_count": 9,
   "metadata": {},
   "outputs": [
    {
     "name": "stdout",
     "output_type": "stream",
     "text": [
      "posit16: 0.00390625\n",
      "\u001b[1;37;41m0\u001b[0m\u001b[1;30;43m00001\u001b[0m\u001b[1;37;44m0\u001b[0m\u001b[1;37;40m0 00000000\u001b[0m\n",
      "Four 0-bit terminated by a 1-bit. This implies regime runlength is 4.\n",
      "\n",
      "posit16: -0.00390625\n",
      "\u001b[1;37;41m1\u001b[0m\u001b[1;30;43m111110\u001b[0m\u001b[1;37;44m0\u001b[0m \u001b[1;37;40m00000000\u001b[0m\n",
      "Five 1-bit terminated by a 0-bit. This implies regime runlength is 5.\n",
      "\n",
      "posit16: 268435456\n",
      "\u001b[1;37;41m0\u001b[0m\u001b[1;30;43m1111111 11111111\u001b[0m\n",
      "Fifteen 1-bit without a terminating bit, exponent bit and fraction bits. Regime runlength is 15 (ps-1).\n"
     ]
    }
   ],
   "source": [
    "#Regime bits\n",
    "print(\"posit16: 0.00390625\")\n",
    "p16 = sp.posit16(0.00390625);\n",
    "p16.toBinaryFormatted()\n",
    "print(\"Four 0-bit terminated by a 1-bit. This implies regime runlength is 4.\\n\")\n",
    "\n",
    "print(\"posit16: -0.00390625\")\n",
    "p16 = sp.posit16(-0.00390625);\n",
    "p16.toBinaryFormatted()\n",
    "print(\"Five 1-bit terminated by a 0-bit. This implies regime runlength is 5.\\n\")\n",
    "\n",
    "print(\"posit16: 268435456\")\n",
    "p16 = sp.posit16(268435456) #maxpos\n",
    "p16.toBinaryFormatted()\n",
    "print(\"Fifteen 1-bit without a terminating bit, exponent bit and fraction bits. Regime runlength is 15 (ps-1).\")"
   ]
  },
  {
   "cell_type": "code",
   "execution_count": 10,
   "metadata": {},
   "outputs": [
    {
     "name": "stdout",
     "output_type": "stream",
     "text": [
      "posit16: 4.76837158203125e-7\n",
      "\u001b[1;37;41m0\u001b[0m\u001b[1;30;43m0000000 00001\u001b[0m\u001b[1;37;44m1\u001b[0m\u001b[1;37;40m00\u001b[0m\n",
      "\n",
      "Shift bit to the right 3 times:\n",
      "\u001b[1;37;41m0\u001b[0m\u001b[1;30;43m0000000 00000001\u001b[0m\u001b[0m\n",
      "Exponent bit is being pushed out.\n",
      "posit16:  3.725290298461914e-09\n",
      "\n",
      "posit32:  1.5407439555097887e-33\n",
      "\u001b[1;37;41m0\u001b[0m\u001b[1;30;43m0000000 00000000 00000000 000001\u001b[0m\u001b[1;37;44m11\u001b[0m\u001b[0m\n",
      "\n",
      "Shift bit to the right 1 time:\n",
      "\u001b[1;37;41m0\u001b[0m\u001b[1;30;43m0000000 00000000 00000000 0000001\u001b[0m\u001b[1;37;44m1\u001b[0m\n",
      "One exponent bit is being pushed out.\n",
      "posit32:  4.81482486096809e-35\n"
     ]
    }
   ],
   "source": [
    "print(\"posit16: 4.76837158203125e-7\")\n",
    "p16 = sp.posit16(4.76837158203125e-7)\n",
    "p16.toBinaryFormatted()\n",
    "\n",
    "print(\"\\nShift bit to the right 3 times:\");\n",
    "p16>>=3\n",
    "p16.toBinaryFormatted()\n",
    "print(\"Exponent bit is being pushed out.\");\n",
    "print(\"posit16: \", p16)\n",
    "\n",
    "\n",
    "p32.fromBits(0x7)\n",
    "print(\"\\nposit32: \", p32)\n",
    "p32.toBinaryFormatted()\n",
    "\n",
    "print(\"\\nShift bit to the right 1 time:\");\n",
    "p32>>=1\n",
    "p32.toBinaryFormatted()\n",
    "print(\"One exponent bit is being pushed out.\");\n",
    "print(\"posit32: \", p32)"
   ]
  },
  {
   "cell_type": "code",
   "execution_count": 11,
   "metadata": {},
   "outputs": [
    {
     "name": "stdout",
     "output_type": "stream",
     "text": [
      "Posit8: 0.984375\n",
      "\u001b[1;37;41m0\u001b[0m\u001b[1;30;43m01\u001b[0m\u001b[1;37;40m11111\u001b[0m\n",
      "\n",
      "Posit8: 0.015625\n",
      "\u001b[1;37;41m0\u001b[0m\u001b[1;30;43m0000001\u001b[0m\u001b[0m\n"
     ]
    }
   ],
   "source": [
    "p8.fromBits(0x3F)\n",
    "print(\"Posit8:\", p8)\n",
    "p8.toBinaryFormatted()\n",
    "\n",
    "p8.fromBits(0x1)\n",
    "print(\"\\nPosit8:\", p8)\n",
    "p8.toBinaryFormatted()"
   ]
  },
  {
   "cell_type": "code",
   "execution_count": 12,
   "metadata": {},
   "outputs": [
    {
     "name": "stdout",
     "output_type": "stream",
     "text": [
      "Float: Positive zero:\n",
      "\u001b[1;37;41m0\u001b[0m\u001b[1;37;44m00000\u001b[0m\u001b[1;37;40m00 00000000\u001b[0m\n",
      "\n",
      "Float: Negative zero:\n",
      "\u001b[1;37;41m1\u001b[0m\u001b[1;37;44m00000\u001b[0m\u001b[1;37;40m00 00000000\u001b[0m\n",
      "\n",
      "Posit: Positive zero:\n",
      "\u001b[1;37;41m0\u001b[0m\u001b[1;30;43m0000000 00000000\u001b[0m\n",
      "\n",
      "Posit: Negative zero:\n",
      "\u001b[1;37;41m0\u001b[0m\u001b[1;30;43m0000000 00000000\u001b[0m\n"
     ]
    }
   ],
   "source": [
    "print(\"Float: Positive zero:\")\n",
    "f16 = sf.float16(+0.0)\n",
    "f16.toBinaryFormatted()\n",
    "\n",
    "print(\"\\nFloat: Negative zero:\")\n",
    "f16 = sf.float16(-0.0)\n",
    "f16.toBinaryFormatted()\n",
    "\n",
    "print(\"\\nPosit: Positive zero:\")\n",
    "p16 = sp.posit16(+0.0)\n",
    "p16.toBinaryFormatted()\n",
    "\n",
    "print(\"\\nPosit: Negative zero:\")\n",
    "p16 = sp.posit16(-0.0)\n",
    "p16.toBinaryFormatted()"
   ]
  },
  {
   "cell_type": "code",
   "execution_count": 13,
   "metadata": {},
   "outputs": [
    {
     "name": "stdout",
     "output_type": "stream",
     "text": [
      "Posit: NaR\n",
      "\u001b[1;37;41m0\u001b[0m\u001b[1;30;43m0000000 00000000\u001b[0m\n",
      "\n",
      "Posit: Divide by zero\n",
      "\u001b[1;37;41m1\u001b[0m\u001b[1;30;43m0000000 00000000\u001b[0m\n",
      "NaR\n",
      "\n",
      "Posit: Square root(negative number)\n",
      "\u001b[1;37;41m1\u001b[0m\u001b[1;30;43m10\u001b[0m\u001b[1;37;44m0\u001b[0m\u001b[1;37;40m0000 00000000\u001b[0m\n",
      "-1.0\n",
      "\n",
      "Float: NaN - Divide by zero\n",
      "\u001b[1;37;41m0\u001b[0m\u001b[1;37;44m11111\u001b[0m\u001b[1;37;40m00 00000000\u001b[0m\n",
      "inf\n",
      "\n",
      "Float: NaN - Divide by zero\n",
      "\u001b[1;37;41m1\u001b[0m\u001b[1;37;44m11111\u001b[0m\u001b[1;37;40m00 00000000\u001b[0m\n",
      "-inf\n",
      "\n",
      "Float: Square root(negative number)\n",
      "\u001b[1;37;41m1\u001b[0m\u001b[1;37;44m11111\u001b[0m\u001b[1;37;40m10 00000000\u001b[0m\n",
      "nan\n",
      "\n",
      "\n",
      "\u001b[1;37;41m1\u001b[0m\u001b[1;37;44m11111\u001b[0m\u001b[1;37;40m10 00000010\u001b[0m\n",
      "nan\n"
     ]
    }
   ],
   "source": [
    "#Posit\n",
    "print(\"Posit: NaR\")\n",
    "p16.toNaR()\n",
    "p16.toBinaryFormatted()\n",
    "\n",
    "print(\"\\nPosit: Divide by zero\")\n",
    "p16=sp.posit16(1)\n",
    "p16/=0\n",
    "p16.toBinaryFormatted()\n",
    "print(p16)\n",
    "\n",
    "print(\"\\nPosit: Square root(negative number)\")\n",
    "p16=sp.posit16(-1)\n",
    "p16.sqrt()\n",
    "p16.toBinaryFormatted()\n",
    "print(p16)\n",
    "\n",
    "#Float\n",
    "print(\"\\nFloat: NaN - Divide by zero\")\n",
    "f16 = sf.float16(1)\n",
    "f16/=0\n",
    "f16.toBinaryFormatted()\n",
    "print(f16)\n",
    "\n",
    "print(\"\\nFloat: NaN - Divide by zero\")\n",
    "f16 = sf.float16(-1)\n",
    "f16/=0\n",
    "f16.toBinaryFormatted()\n",
    "print(f16)\n",
    "\n",
    "print(\"\\nFloat: Square root(negative number)\")\n",
    "f16 = sf.float16(-1)\n",
    "f16.sqrt()\n",
    "f16.toBinaryFormatted()\n",
    "print(f16)\n",
    "\n",
    "\n",
    "#try a different bit pattern for NaN\n",
    "print(\"\\n\")\n",
    "f16.fromBits(0xFE02)\n",
    "f16.toBinaryFormatted()\n",
    "print(f16)"
   ]
  }
 ],
 "metadata": {
  "kernelspec": {
   "display_name": "posit",
   "language": "python",
   "name": "python3"
  },
  "language_info": {
   "codemirror_mode": {
    "name": "ipython",
    "version": 3
   },
   "file_extension": ".py",
   "mimetype": "text/x-python",
   "name": "python",
   "nbconvert_exporter": "python",
   "pygments_lexer": "ipython3",
   "version": "3.10.15"
  }
 },
 "nbformat": 4,
 "nbformat_minor": 2
}
