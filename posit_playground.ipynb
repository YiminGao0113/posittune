{
 "cells": [
  {
   "cell_type": "code",
   "execution_count": 10,
   "metadata": {},
   "outputs": [
    {
     "data": {
      "text/plain": [
       "P<8,0>:          0b11010011   0xd3\n",
       "                   \u001b[1;37;41m1\u001b[1;30;43m01\u001b[1;37;44m\u001b[1;37;40m01101\u001b[0m   \n",
       "s:                 \u001b[1;37;41m1\u001b[0m\n",
       "reg_bits:          \u001b[90m000000\u001b[1;30;43m01\u001b[0m -> (reg_s, reg_len) = (0, 2) -> k = -1\n",
       "mant:              \u001b[90m000\u001b[1;37;40m01101\u001b[0m\n",
       "                   \u001b[1;37;41m1\u001b[1;30;43m01\u001b[1;37;44m\u001b[1;37;40m01101\u001b[0m\n",
       "\n",
       "                   (-1) ** \u001b[1;37;41m1\u001b[0m * (2 ** \u001b[1;30;43m-1\u001b[0m) * (1 + \u001b[1;37;40m13\u001b[0m/32)\n",
       "                   -0.703125\n",
       "\u001b[36m~~~~~~~~~~~~~~~~~~~~~~~~~~~~~~~~~~~~~~~~~~~~~\u001b[0m"
      ]
     },
     "execution_count": 10,
     "metadata": {},
     "output_type": "execute_result"
    }
   ],
   "source": [
    "from posit_playground import from_bits, from_double\n",
    "\n",
    "\n",
    "p1 = from_bits(\n",
    "    bits=0b11010011,\n",
    "    size=8,\n",
    "    es=0,\n",
    ")\n",
    "p1\n",
    "\n",
    "# p2 = from_double(\n",
    "#     x=2.312,\n",
    "#     size=6,\n",
    "#     es=1,\n",
    "# )\n",
    "\n",
    "# p1 * p1 # implements posit multiplication\n"
   ]
  }
 ],
 "metadata": {
  "kernelspec": {
   "display_name": "posit",
   "language": "python",
   "name": "python3"
  },
  "language_info": {
   "codemirror_mode": {
    "name": "ipython",
    "version": 3
   },
   "file_extension": ".py",
   "mimetype": "text/x-python",
   "name": "python",
   "nbconvert_exporter": "python",
   "pygments_lexer": "ipython3",
   "version": "undefined.undefined.undefined"
  }
 },
 "nbformat": 4,
 "nbformat_minor": 2
}
